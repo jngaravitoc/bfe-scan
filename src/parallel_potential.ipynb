{
 "cells": [
  {
   "cell_type": "code",
   "execution_count": 2,
   "metadata": {},
   "outputs": [
    {
     "name": "stdout",
     "output_type": "stream",
     "text": [
      "Populating the interactive namespace from numpy and matplotlib\n"
     ]
    }
   ],
   "source": [
    "%pylab inline\n",
    "import numpy as np\n",
    "import schwimmbad\n",
    "import gala.potential as gp\n",
    "import coeff_parallel as cop\n",
    "from scipy import special\n",
    "import biff"
   ]
  },
  {
   "cell_type": "code",
   "execution_count": 3,
   "metadata": {},
   "outputs": [],
   "source": [
    "sys.path.append('../../MW-LMC-SCF/code')\n",
    "import mwlmc_bfe\n",
    "from coefficients_smoothing import read_coeff_matrix"
   ]
  },
  {
   "cell_type": "code",
   "execution_count": 24,
   "metadata": {},
   "outputs": [],
   "source": [
    "def spherical_coordinates(pos):\n",
    "    r = (pos[:,0]**2 + pos[:,1]**2 + pos[:,2]**2)**0.5 \n",
    "    theta = np.arccos(pos[:,2]/r)\n",
    "    phi = np.arctan2(pos[:,1], pos[:,0]) + np.pi\n",
    "    return r, theta, phi\n",
    "    \n",
    "def bfe_pot(pos, n, l, m):\n",
    "    r, theta, phi = spherical_coordinates(pos)\n",
    "    rho_l = -r**l/(1+r)**(2*l+1)\n",
    "    rho_nlm = special.eval_gegenbauer(n, 2*l+1.5, (r-1)/(r+1)) * special.sph_harm(m, l, phi, theta)\n",
    "    return (4*np.pi)**0.5 * rho_l * rho_nlm \n",
    "\n",
    "def nlm_list(ncoeff, nmax, lmax):\n",
    "    n_list = np.zeros(ncoeff)\n",
    "    l_list = np.zeros(ncoeff)\n",
    "    m_list = np.zeros(ncoeff)\n",
    "    i=0\n",
    "    for n in range(nmax):\n",
    "        for l in range(lmax):\n",
    "            for m in range(l+1):\n",
    "                n_list[i] = n \n",
    "                l_list[i] = l\n",
    "                m_list[i] = m\n",
    "                i+=1\n",
    "    return n_list, l_list, m_list\n",
    "\n",
    "def potential(pos, S, T, M, r_s, nmax, lmax):\n",
    "    G = 1\n",
    "    r, theta, phi = spherical_coordinates(pos)\n",
    "    n, l, m = nlm_list(len(S), nmax, lmax)\n",
    "    pot=0\n",
    "    for i in range(len(S)):\n",
    "        pot += bfe_pot(pos, n[i], l[i], m[i]) * (S[i]*cos(m[i]*phi) + T[i]*sin(m[i]*phi))\n",
    "    return pot*G*M/r_s\n",
    "    "
   ]
  },
  {
   "cell_type": "code",
   "execution_count": 17,
   "metadata": {},
   "outputs": [],
   "source": [
    "Phi = potential(pos, S, T, 1, 40.85, 21, 21)"
   ]
  },
  {
   "cell_type": "code",
   "execution_count": 18,
   "metadata": {},
   "outputs": [
    {
     "data": {
      "text/plain": [
       "array([-0.02374977+5.39581855e-06j, -0.0421567 +1.82122867e-05j,\n",
       "       -0.08503034+9.33096705e-05j, -0.02395516+5.92262253e-06j,\n",
       "       -0.06786135+6.05463128e-05j, -0.0259559 +4.31266458e-06j,\n",
       "       -0.04396308+2.79715280e-05j, -0.04185078+1.90816872e-05j,\n",
       "       -0.0253119 +1.62818347e-06j, -0.02102338+3.46993832e-06j,\n",
       "       -0.02938832+9.96294743e-06j, -0.03764615+2.87995536e-05j,\n",
       "       -0.0336334 +1.88085573e-05j, -0.0279665 +7.42575714e-06j,\n",
       "       -0.03416373+9.81819419e-08j, -0.03407606-5.95031113e-07j,\n",
       "       -0.02613223+2.04335630e-06j, -0.0257799 -3.05376718e-07j,\n",
       "       -0.02889183+3.64237692e-06j, -0.02200452+3.84581748e-06j,\n",
       "       -0.07126086+7.30265807e-05j, -0.02977542+1.37571644e-05j,\n",
       "       -0.03025413+6.68847051e-06j, -0.03118101+1.83375910e-06j,\n",
       "       -0.02438824+1.99561895e-06j, -0.07159644+1.13637443e-05j,\n",
       "       -0.03609342+2.29233330e-06j, -0.02582704+5.36535046e-06j,\n",
       "       -0.03179459+1.13095376e-05j, -0.05432951+7.77309757e-06j,\n",
       "       -0.0211686 +2.08333440e-06j, -0.05533892+1.76729355e-05j,\n",
       "       -0.02945454+5.14281737e-06j, -0.04044485+2.36202258e-06j,\n",
       "       -0.04992872+5.88264182e-05j, -0.02557406+6.06943396e-06j,\n",
       "       -0.04077747+3.61081560e-05j, -0.03210946+8.74125777e-06j,\n",
       "       -0.0318516 +4.00567389e-06j, -0.0311646 +1.10514163e-05j,\n",
       "       -0.02798272+4.53756667e-06j, -0.02678004+4.78409114e-06j,\n",
       "       -0.03580612+1.80472215e-06j, -0.02749297+6.93430606e-06j,\n",
       "       -0.02413508+4.35550268e-07j, -0.02788402+5.70563722e-06j,\n",
       "       -0.02666946+7.25978338e-06j, -0.03184424+5.61675757e-06j,\n",
       "       -0.04222556+3.14387654e-05j, -0.03360806+1.70283098e-05j,\n",
       "       -0.02925903+9.13798774e-06j, -0.03797778+2.28038718e-05j,\n",
       "       -0.04053285+2.33918641e-05j, -0.03395637+4.26065560e-06j,\n",
       "       -0.03910527+1.78328536e-06j, -0.02834541+3.30425576e-07j,\n",
       "       -0.02611089+7.04504209e-06j, -0.04575275+1.24081112e-05j,\n",
       "       -0.02264855+2.67613207e-06j, -0.03876288+1.67731024e-05j,\n",
       "       -0.04505472+2.03890970e-06j, -0.03131062-1.47296444e-21j,\n",
       "       -0.05719446-2.69782239e-06j, -0.04839088+5.42588761e-05j,\n",
       "       -0.02484069+5.73106734e-06j, -0.04310263+7.89649489e-06j,\n",
       "       -0.04253154+1.28760338e-05j, -0.09120951+2.25944682e-05j,\n",
       "       -0.02812132+3.28336997e-06j, -0.02733455+2.85206931e-06j,\n",
       "       -0.03708339+1.63224432e-06j, -0.0263807 +4.64894303e-06j,\n",
       "       -0.03170741+5.16237866e-06j, -0.03053206+7.51595805e-06j,\n",
       "       -0.03569363+4.88622684e-06j, -0.03109621+1.01878280e-05j,\n",
       "       -0.05314888+6.31317057e-05j, -0.02664433+4.67334729e-06j,\n",
       "       -0.02576481+1.73422720e-06j, -0.03221924+1.86898001e-05j,\n",
       "       -0.06421373+1.06173006e-04j, -0.04107716-3.40407104e-07j,\n",
       "       -0.03279757-2.96127350e-07j, -0.02405347+5.50110004e-06j,\n",
       "       -0.03244659+1.82375455e-05j, -0.02560734+6.17666336e-06j,\n",
       "       -0.04223792+2.09470645e-06j, -0.03249954+1.25292732e-06j,\n",
       "       -0.05329484+4.84733662e-07j, -0.03236362+2.74345155e-06j,\n",
       "       -0.06232086-3.31316604e-06j, -0.02228004+1.11079682e-06j,\n",
       "       -0.04334481-4.07054236e-07j, -0.0464008 -1.70228010e-07j,\n",
       "       -0.02107277+2.61807272e-06j, -0.06137835+2.53019072e-05j,\n",
       "       -0.03297293+1.23208047e-05j, -0.04485433+4.88234934e-06j,\n",
       "       -0.08213235+4.26828355e-05j, -0.02643223+6.80023195e-06j])"
      ]
     },
     "execution_count": 18,
     "metadata": {},
     "output_type": "execute_result"
    }
   ],
   "source": [
    "Phi"
   ]
  },
  {
   "cell_type": "code",
   "execution_count": 11,
   "metadata": {},
   "outputs": [],
   "source": [
    "Smatrix = mwlmc_bfe.coefficients_smoothing.reshape_matrix(S, 20, 20, 20)\n",
    "Tmatrix = mwlmc_bfe.coefficients_smoothing.reshape_matrix(T, 20, 20, 20)"
   ]
  },
  {
   "cell_type": "code",
   "execution_count": 16,
   "metadata": {},
   "outputs": [],
   "source": [
    "potbiff = biff.potential(np.ascontiguousarray(pos.astype(double)), Smatrix, Tmatrix, r_s=40.85)"
   ]
  },
  {
   "cell_type": "code",
   "execution_count": 23,
   "metadata": {},
   "outputs": [
    {
     "data": {
      "text/plain": [
       "array([-0.88403764, -1.34346706, -2.00915665, -0.88864206, -1.79331792,\n",
       "       -0.94003929, -1.37609094, -1.33509042, -0.91724611, -0.80026165,\n",
       "       -1.03506879, -1.25508462, -1.14944143, -1.00027981, -1.14448835,\n",
       "       -1.14184726, -0.94586827, -0.93401883, -1.01931794, -0.82210087,\n",
       "       -1.82627595, -1.05599024, -1.06153206, -1.07466422, -0.8961518 ,\n",
       "       -1.83765164, -1.19652997, -0.93808265, -1.10055887, -1.56299631,\n",
       "       -0.80216786, -1.57785756, -1.03226399, -1.30039342, -1.50697264,\n",
       "       -0.93208384, -1.31997287, -1.10338314, -1.0911735 , -1.08333451,\n",
       "       -0.99460645, -0.96280222, -1.19188548, -0.98283765, -0.88420505,\n",
       "       -0.99006663, -0.96705504, -1.09547481, -1.36472472, -1.14655323,\n",
       "       -1.03122443, -1.25631646, -1.31735999, -1.14942575, -1.26572732,\n",
       "       -0.99897182, -0.95260135, -1.4152092 , -0.83634309, -1.26168243,\n",
       "       -1.38585111, -1.0826522 , -1.61050328, -1.4724041 , -0.90735701,\n",
       "       -1.3576387 , -1.34152631, -2.0650135 , -0.99395603, -0.97617904,\n",
       "       -1.2137684 , -0.95277834, -1.08580673, -1.06122544, -1.18482129,\n",
       "       -1.07806054, -1.56438248, -0.95690441, -0.93256449, -1.12288533,\n",
       "       -1.7469279 , -1.30952322, -1.11409784, -0.8866487 , -1.13757225,\n",
       "       -0.93609736, -1.33672098, -1.11450476, -1.54338532, -1.10932166,\n",
       "       -1.69286703, -0.82626717, -1.34836732, -1.41091911, -0.80022321,\n",
       "       -1.68724821, -1.12440927, -1.39058561, -1.96142687, -0.95357824])"
      ]
     },
     "execution_count": 23,
     "metadata": {},
     "output_type": "execute_result"
    }
   ],
   "source": [
    "potbiff "
   ]
  },
  {
   "cell_type": "code",
   "execution_count": 22,
   "metadata": {},
   "outputs": [
    {
     "data": {
      "text/plain": [
       "array([-0.02374977, -0.0421567 , -0.08503034, -0.02395516, -0.06786135,\n",
       "       -0.0259559 , -0.04396308, -0.04185078, -0.0253119 , -0.02102338,\n",
       "       -0.02938832, -0.03764615, -0.0336334 , -0.0279665 , -0.03416373,\n",
       "       -0.03407606, -0.02613223, -0.0257799 , -0.02889183, -0.02200452,\n",
       "       -0.07126086, -0.02977542, -0.03025413, -0.03118101, -0.02438824,\n",
       "       -0.07159644, -0.03609342, -0.02582704, -0.03179459, -0.05432951,\n",
       "       -0.0211686 , -0.05533892, -0.02945454, -0.04044485, -0.04992872,\n",
       "       -0.02557406, -0.04077747, -0.03210946, -0.0318516 , -0.0311646 ,\n",
       "       -0.02798272, -0.02678004, -0.03580612, -0.02749297, -0.02413508,\n",
       "       -0.02788402, -0.02666946, -0.03184424, -0.04222556, -0.03360806,\n",
       "       -0.02925903, -0.03797778, -0.04053285, -0.03395637, -0.03910527,\n",
       "       -0.02834541, -0.02611089, -0.04575275, -0.02264855, -0.03876288,\n",
       "       -0.04505472, -0.03131062, -0.05719446, -0.04839088, -0.02484069,\n",
       "       -0.04310263, -0.04253154, -0.09120951, -0.02812132, -0.02733455,\n",
       "       -0.03708339, -0.0263807 , -0.03170741, -0.03053206, -0.03569363,\n",
       "       -0.03109621, -0.05314888, -0.02664433, -0.02576481, -0.03221924,\n",
       "       -0.06421373, -0.04107716, -0.03279757, -0.02405347, -0.03244659,\n",
       "       -0.02560734, -0.04223792, -0.03249954, -0.05329484, -0.03236362,\n",
       "       -0.06232086, -0.02228004, -0.04334481, -0.0464008 , -0.02107277,\n",
       "       -0.06137835, -0.03297293, -0.04485433, -0.08213235, -0.02643223])"
      ]
     },
     "execution_count": 22,
     "metadata": {},
     "output_type": "execute_result"
    }
   ],
   "source": [
    "Phi.real"
   ]
  },
  {
   "cell_type": "code",
   "execution_count": 10,
   "metadata": {},
   "outputs": [],
   "source": [
    "coeff = np.loadtxt('../../time-dependent-BFE/data/BFE MWLMC5_b1snap_100.txt')\n",
    "S = coeff[:,0]\n",
    "T = coeff[:,2]"
   ]
  },
  {
   "cell_type": "code",
   "execution_count": 8,
   "metadata": {},
   "outputs": [],
   "source": [
    "pos = np.random.randint(-100, 100, (100, 3))"
   ]
  },
  {
   "cell_type": "code",
   "execution_count": 9,
   "metadata": {},
   "outputs": [
    {
     "data": {
      "text/plain": [
       "<matplotlib.collections.PathCollection at 0x7f0fd57d9400>"
      ]
     },
     "execution_count": 9,
     "metadata": {},
     "output_type": "execute_result"
    },
    {
     "data": {
      "image/png": "[encoded data removed]",
      "text/plain": [
       "<matplotlib.figure.Figure at 0x7f0fd57006d8>"
      ]
     },
     "metadata": {},
     "output_type": "display_data"
    }
   ],
   "source": [
    "scatter(pos[:,1], pos[:,2])"
   ]
  },
  {
   "cell_type": "code",
   "execution_count": null,
   "metadata": {},
   "outputs": [],
   "source": []
  }
 ],
 "metadata": {
  "kernelspec": {
   "display_name": "Python 3",
   "language": "python",
   "name": "python3"
  }
 },
 "nbformat": 4,
 "nbformat_minor": 2
}
