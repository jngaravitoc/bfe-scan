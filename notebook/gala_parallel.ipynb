{
 "cells": [
  {
   "cell_type": "code",
   "execution_count": 1,
   "metadata": {},
   "outputs": [
    {
     "name": "stderr",
     "output_type": "stream",
     "text": [
      "WARNING: AstropyDeprecationWarning: astropy.extern.six will be removed in 4.0, use the six module directly if it is still needed [astropy.extern.six]\n"
     ]
    }
   ],
   "source": [
    "%matplotlib inline\n",
    "import matplotlib\n",
    "import numpy as np\n",
    "import matplotlib.pyplot as plt\n",
    "\n",
    "import gala.potential as gp\n",
    "from gala.units import galactic\n",
    "from gala.potential.scf import compute_coeffs, compute_coeffs_discrete\n",
    "\n",
    "import schwimmbad"
   ]
  },
  {
   "cell_type": "code",
   "execution_count": 2,
   "metadata": {},
   "outputs": [],
   "source": [
    "data = np.loadtxt('../../MW_anisotropy/code/test_snaps/LMC3_507K_part_b1_091.txt')"
   ]
  },
  {
   "cell_type": "code",
   "execution_count": 10,
   "metadata": {},
   "outputs": [],
   "source": [
    "pos = data[:10000,0:3]"
   ]
  },
  {
   "cell_type": "code",
   "execution_count": 11,
   "metadata": {},
   "outputs": [
    {
     "data": {
      "text/plain": [
       "array([ -0.46587896, -31.65701675, -34.16439438])"
      ]
     },
     "execution_count": 11,
     "metadata": {},
     "output_type": "execute_result"
    }
   ],
   "source": [
    "pos[0]"
   ]
  },
  {
   "cell_type": "code",
   "execution_count": 12,
   "metadata": {},
   "outputs": [],
   "source": [
    "mass = data[:,-1]\n",
    "lmax = 10\n",
    "r_s = 20\n",
    "n = np.arange(0, 11, 1)"
   ]
  },
  {
   "cell_type": "code",
   "execution_count": 13,
   "metadata": {},
   "outputs": [],
   "source": [
    "def parallel_coeffs(n):\n",
    "    \"\"\"\n",
    "    parallelt comutation of the coefficients\n",
    "    \"\"\"\n",
    "    \n",
    "    S, T = compute_coeffs_discrete(pos, mass, n, lmax, r_s)\n",
    "    return S, T\n"
   ]
  },
  {
   "cell_type": "code",
   "execution_count": 14,
   "metadata": {},
   "outputs": [
    {
     "ename": "ValueError",
     "evalue": "Tried to create an MPI pool, but there was only one MPI process available. Need at least two.",
     "output_type": "error",
     "traceback": [
      "\u001b[0;31m---------------------------------------------------------------------------\u001b[0m",
      "\u001b[0;31mValueError\u001b[0m                                Traceback (most recent call last)",
      "\u001b[0;32m<ipython-input-14-6035b25a0fa1>\u001b[0m in \u001b[0;36m<module>\u001b[0;34m()\u001b[0m\n\u001b[1;32m      1\u001b[0m \u001b[0;32mfrom\u001b[0m \u001b[0mschwimmbad\u001b[0m \u001b[0;32mimport\u001b[0m \u001b[0mMPIPool\u001b[0m\u001b[0;34m\u001b[0m\u001b[0m\n\u001b[0;32m----> 2\u001b[0;31m \u001b[0mpool\u001b[0m \u001b[0;34m=\u001b[0m \u001b[0mMPIPool\u001b[0m\u001b[0;34m(\u001b[0m\u001b[0;34m)\u001b[0m\u001b[0;34m\u001b[0m\u001b[0m\n\u001b[0m\u001b[1;32m      3\u001b[0m \u001b[0;34m\u001b[0m\u001b[0m\n\u001b[1;32m      4\u001b[0m \u001b[0;34m\u001b[0m\u001b[0m\n",
      "\u001b[0;32m/usr/local/lib/python3.5/dist-packages/schwimmbad/mpi.py\u001b[0m in \u001b[0;36m__init__\u001b[0;34m(self, comm)\u001b[0m\n\u001b[1;32m     59\u001b[0m \u001b[0;34m\u001b[0m\u001b[0m\n\u001b[1;32m     60\u001b[0m         \u001b[0;32mif\u001b[0m \u001b[0mself\u001b[0m\u001b[0;34m.\u001b[0m\u001b[0msize\u001b[0m \u001b[0;34m==\u001b[0m \u001b[0;36m0\u001b[0m\u001b[0;34m:\u001b[0m\u001b[0;34m\u001b[0m\u001b[0m\n\u001b[0;32m---> 61\u001b[0;31m             raise ValueError(\"Tried to create an MPI pool, but there \"\n\u001b[0m\u001b[1;32m     62\u001b[0m                              \u001b[0;34m\"was only one MPI process available. \"\u001b[0m\u001b[0;34m\u001b[0m\u001b[0m\n\u001b[1;32m     63\u001b[0m                              \"Need at least two.\")\n",
      "\u001b[0;31mValueError\u001b[0m: Tried to create an MPI pool, but there was only one MPI process available. Need at least two."
     ]
    }
   ],
   "source": [
    "from schwimmbad import MPIPool\n",
    "pool = MPIPool()\n"
   ]
  },
  {
   "cell_type": "code",
   "execution_count": null,
   "metadata": {},
   "outputs": [],
   "source": [
    "if not pool.is_master():\n",
    "    pool.wait()\n",
    "    sys.exit(0)\n",
    "\n",
    "main(pool)"
   ]
  },
  {
   "cell_type": "code",
   "execution_count": 15,
   "metadata": {},
   "outputs": [],
   "source": [
    "from schwimmbad import MultiPool\n"
   ]
  },
  {
   "cell_type": "code",
   "execution_count": 16,
   "metadata": {},
   "outputs": [],
   "source": [
    "with MultiPool() as pool:\n",
    "    values = list(pool.map(parallel_coeffs, n))"
   ]
  },
  {
   "cell_type": "code",
   "execution_count": 31,
   "metadata": {},
   "outputs": [
    {
     "data": {
      "text/plain": [
       "(11, 2)"
      ]
     },
     "execution_count": 31,
     "metadata": {},
     "output_type": "execute_result"
    }
   ],
   "source": [
    "np.shape(values)"
   ]
  },
  {
   "cell_type": "code",
   "execution_count": 33,
   "metadata": {},
   "outputs": [
    {
     "data": {
      "text/plain": [
       "(2, 1, 11, 11)"
      ]
     },
     "execution_count": 33,
     "metadata": {},
     "output_type": "execute_result"
    }
   ],
   "source": [
    "np.shape(values[0])"
   ]
  },
  {
   "cell_type": "code",
   "execution_count": 22,
   "metadata": {},
   "outputs": [
    {
     "data": {
      "text/plain": [
       "(2, 2, 11, 11)"
      ]
     },
     "execution_count": 22,
     "metadata": {},
     "output_type": "execute_result"
    }
   ],
   "source": [
    "np.shape(values[1])"
   ]
  },
  {
   "cell_type": "code",
   "execution_count": 35,
   "metadata": {},
   "outputs": [
    {
     "data": {
      "text/plain": [
       "(3, 11, 11)"
      ]
     },
     "execution_count": 35,
     "metadata": {},
     "output_type": "execute_result"
    }
   ],
   "source": [
    "np.shape(values[2][0])"
   ]
  },
  {
   "cell_type": "code",
   "execution_count": 36,
   "metadata": {},
   "outputs": [
    {
     "data": {
      "text/plain": [
       "\u001b[0;31mSignature:\u001b[0m \u001b[0mcompute_coeffs_discrete\u001b[0m\u001b[0;34m(\u001b[0m\u001b[0mxyz\u001b[0m\u001b[0;34m,\u001b[0m \u001b[0mmass\u001b[0m\u001b[0;34m,\u001b[0m \u001b[0mnmax\u001b[0m\u001b[0;34m,\u001b[0m \u001b[0mlmax\u001b[0m\u001b[0;34m,\u001b[0m \u001b[0mr_s\u001b[0m\u001b[0;34m,\u001b[0m \u001b[0mskip_odd\u001b[0m\u001b[0;34m=\u001b[0m\u001b[0;32mFalse\u001b[0m\u001b[0;34m,\u001b[0m \u001b[0mskip_even\u001b[0m\u001b[0;34m=\u001b[0m\u001b[0;32mFalse\u001b[0m\u001b[0;34m,\u001b[0m \u001b[0mskip_m\u001b[0m\u001b[0;34m=\u001b[0m\u001b[0;32mFalse\u001b[0m\u001b[0;34m,\u001b[0m \u001b[0mcompute_var\u001b[0m\u001b[0;34m=\u001b[0m\u001b[0;32mFalse\u001b[0m\u001b[0;34m)\u001b[0m\u001b[0;34m\u001b[0m\u001b[0m\n",
       "\u001b[0;31mDocstring:\u001b[0m\n",
       "Compute the expansion coefficients for representing the density distribution of input points\n",
       "as a basis function expansion. The points, ``xyz``, are assumed to be samples from the\n",
       "density distribution.\n",
       "\n",
       "Computing the coefficients involves computing triple integrals which are computationally\n",
       "expensive. For an example of how to parallelize the computation of the coefficients, see\n",
       "``examples/parallel_compute_Anlm.py``.\n",
       "\n",
       "Parameters\n",
       "----------\n",
       "xyz : array_like\n",
       "    Samples from the density distribution. Should have shape ``(n_samples,3)``.\n",
       "mass : array_like\n",
       "    Mass of each sample. Should have shape ``(n_samples,)``.\n",
       "nmax : int\n",
       "    Maximum value of ``n`` for the radial expansion.\n",
       "lmax : int\n",
       "    Maximum value of ``l`` for the spherical harmonics.\n",
       "r_s : numeric\n",
       "    Scale radius.\n",
       "skip_odd : bool (optional)\n",
       "    Skip the odd terms in the angular portion of the expansion. For example, only\n",
       "    take :math:`l=0,2,4,...`\n",
       "skip_even : bool (optional)\n",
       "    Skip the even terms in the angular portion of the expansion. For example, only\n",
       "    take :math:`l=1,3,5,...`\n",
       "skip_m : bool (optional)\n",
       "    Ignore terms with :math:`m > 0`.\n",
       "compute_var : bool (optional)\n",
       "    Also compute the variances of the coefficients. This does not compute the full covariance\n",
       "    matrix of the coefficients, just the individual variances.\n",
       "    TODO: separate function to compute full covariance matrix?\n",
       "\n",
       "Returns\n",
       "-------\n",
       "Snlm : float\n",
       "    The value of the cosine expansion coefficient.\n",
       "Tnlm : float\n",
       "    The value of the sine expansion coefficient.\n",
       "\u001b[0;31mFile:\u001b[0m      /usr/local/lib/python3.5/dist-packages/gala/potential/scf/core.py\n",
       "\u001b[0;31mType:\u001b[0m      function\n"
      ]
     },
     "metadata": {},
     "output_type": "display_data"
    }
   ],
   "source": [
    "compute_coeffs_discrete?"
   ]
  },
  {
   "cell_type": "code",
   "execution_count": null,
   "metadata": {},
   "outputs": [],
   "source": []
  }
 ],
 "metadata": {
  "kernelspec": {
   "display_name": "Python 3",
   "language": "python",
   "name": "python3"
  },
  "language_info": {
   "codemirror_mode": {
    "name": "ipython",
    "version": 3
   },
   "file_extension": ".py",
   "mimetype": "text/x-python",
   "name": "python",
   "nbconvert_exporter": "python",
   "pygments_lexer": "ipython3",
   "version": "3.5.2"
  }
 },
 "nbformat": 4,
 "nbformat_minor": 2
}
